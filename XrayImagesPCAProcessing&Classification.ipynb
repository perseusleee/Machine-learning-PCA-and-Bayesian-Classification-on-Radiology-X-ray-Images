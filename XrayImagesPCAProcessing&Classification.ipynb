{
 "cells": [
  {
   "cell_type": "markdown",
   "metadata": {},
   "source": [
    "# Xray Images PCA"
   ]
  },
  {
   "cell_type": "code",
   "execution_count": 45,
   "metadata": {},
   "outputs": [],
   "source": [
    "import pandas as pd\n",
    "from PIL import Image\n",
    "import numpy as np\n",
    "import cv2\n",
    "import math\n",
    "from sklearn import svm\n",
    "from array import array\n",
    "import matplotlib.pyplot as plt\n",
    "import numpy.linalg as LA\n",
    "from itertools import permutations\n",
    "from sklearn import neighbors,metrics\n",
    "from matplotlib import pylab\n",
    "#import matplotlib as plt"
   ]
  },
  {
   "cell_type": "code",
   "execution_count": 2,
   "metadata": {},
   "outputs": [],
   "source": [
    "#function to load images into dataframe\n",
    "def loaddata(rootdir):\n",
    "    import os\n",
    "    imagelist = []\n",
    "    for (dirpath,dirnames,filenames) in os.walk(rootdir,followlinks=True):\n",
    "        for file in filenames:\n",
    "            if '.jpeg' in file:\n",
    "                datalabel = dirpath.split('\\\\')[-2]\n",
    "                classlabel =[0 if dirpath.split('\\\\')[-1]=='NORMAL' else 1][0]\n",
    "                imagelist.append((dirpath+'\\\\'+ file,datalabel,classlabel))\n",
    "    return pd.DataFrame(imagelist,columns=['image','data','class'])"
   ]
  },
  {
   "cell_type": "code",
   "execution_count": 3,
   "metadata": {},
   "outputs": [],
   "source": [
    "#regenerate images\n",
    "def regenerateImages(image):\n",
    "    ResizeValNew= image.reshape(32, 32)\n",
    "    #ResizeValNew.shape#(71,90)\n",
    "    ImageReconstructedNew = Image.fromarray(ResizeValNew)\n",
    "    ImageReconstructedNew.show()"
   ]
  },
  {
   "cell_type": "code",
   "execution_count": 4,
   "metadata": {},
   "outputs": [],
   "source": [
    "def flatImages(dataset,selectedLabels):\n",
    "    vals =[]\n",
    "    for i in range(len(dataset.values)):\n",
    "        #print (i)\n",
    "        imgpath = dataset.iloc[i].image\n",
    "        img = Image.open(imgpath).convert('L')\n",
    "        img = img.resize((32,32), Image.ANTIALIAS)\n",
    "        val = list(img.convert('L').getdata())\n",
    "        vals.extend(val)\n",
    "    datasetlabels = dataset.loc[:,dataset.columns == 'class']\n",
    "    trainData= np.array(vals)\n",
    "    trainlabel= np.array(datasetlabels)\n",
    "    idx = [k for k in range(len(trainlabel)) if trainlabel[k] in selectedLabels]\n",
    "    N = len(idx)\n",
    "    X = np.zeros((N, 32 * 32), dtype=np.uint8)\n",
    "    T = np.zeros((N, 1), dtype=np.uint8)\n",
    "    for i in range(N):\n",
    "        X[i] = trainData[idx[i] * 32 * 32:(idx[i] + 1) * 32 * 32]\n",
    "        T[i] = trainlabel[idx[i]]\n",
    "    return X,T"
   ]
  },
  {
   "cell_type": "code",
   "execution_count": 5,
   "metadata": {},
   "outputs": [],
   "source": [
    "def Build2DHistograms(P, T, B, mn, mx):\n",
    "    labels = np.unique(T)\n",
    "    Hn = np.zeros([B,B]).astype('int32')\n",
    "    Hp = np.zeros([B,B]).astype('int32')\n",
    "    RC = np.clip(np.around(((B-1)*(P - mn)/(mx - mn)))  .astype('int32'), 0, B-1)\n",
    "    for i, rc in enumerate(RC):\n",
    "            if T[i] == labels[0]:\n",
    "                Hn[rc[0], rc[1]] += 1\n",
    "            else:\n",
    "                Hp[rc[0], rc[1]] += 1\n",
    "    return Hn, Hp"
   ]
  },
  {
   "cell_type": "code",
   "execution_count": 6,
   "metadata": {},
   "outputs": [],
   "source": [
    "def Histogram2DClassifier (queries, mn, mx, Hn, Hp, labeln,labelp):\n",
    "    B = np.alen(Hn)\n",
    "    RC = np.clip(np.around(((B - 1) * (queries - mn) / (mx - mn))).astype('int32'), 0, B - 1)\n",
    "    countn = Hn[RC[:, 0], RC[:, 1]]\n",
    "    countp = Hp[RC[:, 0], RC[:, 1]] \n",
    "    resultlabel = np.full(np.alen(countn), 999, dtype=int)\n",
    "    indicesn = countn > countp\n",
    "    indicesp = countp > countn\n",
    "    resultlabel[indicesn] = labeln\n",
    "    resultlabel[indicesp] = labelp\n",
    "    resultprob = countn/(countn+countp)\n",
    "    resultprob[indicesp] = 1 - resultprob[indicesp]\n",
    "    return resultlabel, resultprob"
   ]
  },
  {
   "cell_type": "code",
   "execution_count": 7,
   "metadata": {},
   "outputs": [],
   "source": [
    "def Bayesian2DClassifier(queries, Nn, Np, mun, mup, cn, cp, labeln, labelp):\n",
    "    w1 = 1\n",
    "    w2 = 1\n",
    "    A = w1*w2\n",
    "    N = np.alen(queries)\n",
    "    [countn, countp] = np.zeros((2, N))\n",
    "    factorn = Nn * A * (1 / (2 * np.pi * np.sqrt(np.linalg.det(cn))))\n",
    "    factorp = Np * A * (1 / (2 * np.pi * np.sqrt(np.linalg.det(cp))))\n",
    "    icn = np.linalg.inv(cn)\n",
    "    icp = np.linalg.inv(cp)\n",
    "    for i, q in enumerate(queries):\n",
    "        countn[i] = factorn*np.exp(-0.5 * np.dot(np.dot(q - mun, icn), q - mun))\n",
    "        countp[i] = factorp*np.exp(-0.5 * np.dot(np.dot(q - mup, icp), q - mup))\n",
    "    resultlabel = np.full(N, 999, dtype = int)\n",
    "    indicesn = countn > countp\n",
    "    indicesp = countp > countn\n",
    "    resultlabel[indicesn] = labeln\n",
    "    resultlabel[indicesp] = labelp\n",
    "    resultprob = countn/(countn+countp)\n",
    "    resultprob[indicesp] = 1 - resultprob[indicesp]\n",
    "    return resultlabel, resultprob"
   ]
  },
  {
   "cell_type": "code",
   "execution_count": 8,
   "metadata": {},
   "outputs": [],
   "source": [
    "def accuracy (truth, result):\n",
    "    return (list((truth==result)).count(True))/np.alen(truth)"
   ]
  },
  {
   "cell_type": "markdown",
   "metadata": {},
   "source": [
    "## Main"
   ]
  },
  {
   "cell_type": "code",
   "execution_count": 17,
   "metadata": {},
   "outputs": [
    {
     "data": {
      "text/plain": [
       "(5856, 3)"
      ]
     },
     "execution_count": 17,
     "metadata": {},
     "output_type": "execute_result"
    }
   ],
   "source": [
    "filedb = loaddata('G:/UCSC/machine learning/Final Project PCA/chest-xray-pneumonia/chest_xray/chest_xray')\n",
    "train = filedb.loc[filedb['data']=='train']\n",
    "trainlabels = train.loc[:,train.columns == 'class']\n",
    "test = filedb.loc[filedb['data']=='test']\n",
    "testImages = test.loc[:,test.columns == 'image']\n",
    "testlabels = test.loc[:,test.columns == 'class']\n",
    "filedb.shape\n"
   ]
  },
  {
   "cell_type": "code",
   "execution_count": 18,
   "metadata": {},
   "outputs": [
    {
     "data": {
      "text/plain": [
       "5216"
      ]
     },
     "execution_count": 18,
     "metadata": {},
     "output_type": "execute_result"
    }
   ],
   "source": [
    "len(train.values)"
   ]
  },
  {
   "cell_type": "code",
   "execution_count": 19,
   "metadata": {},
   "outputs": [
    {
     "data": {
      "image/png": "[encoded data removed]",
      "text/plain": [
       "<matplotlib.figure.Figure at 0x2e2c1818828>"
      ]
     },
     "metadata": {},
     "output_type": "display_data"
    }
   ],
   "source": [
    "ClassCounts = train['class'].value_counts().plot(kind='bar')\n",
    "ClassCounts.set_ylabel('No. of Images')\n",
    "ClassCounts.set_title('Class Bias')\n",
    "ClassCounts.set_xticklabels( ('Pneumonia', 'Normal') )\n",
    "plt.show()"
   ]
  },
  {
   "cell_type": "markdown",
   "metadata": {},
   "source": [
    "### Do PCA"
   ]
  },
  {
   "cell_type": "code",
   "execution_count": 20,
   "metadata": {},
   "outputs": [],
   "source": [
    "X_train,Y_train = flatImages(train,selectedLabels=[0,1])"
   ]
  },
  {
   "cell_type": "code",
   "execution_count": 21,
   "metadata": {},
   "outputs": [],
   "source": [
    "X_train.shape\n",
    "Y_train.shape\n",
    "\n",
    "X1= X_train\n",
    "T1= Y_train"
   ]
  },
  {
   "cell_type": "code",
   "execution_count": 22,
   "metadata": {},
   "outputs": [
    {
     "data": {
      "text/plain": [
       "(1024,)"
      ]
     },
     "execution_count": 22,
     "metadata": {},
     "output_type": "execute_result"
    }
   ],
   "source": [
    "X1[1].shape#only 1 element has 32*32 dimensions(rows and columns)"
   ]
  },
  {
   "cell_type": "code",
   "execution_count": 23,
   "metadata": {},
   "outputs": [
    {
     "data": {
      "text/plain": [
       "array([ 8, 46, 76, ..., 60,  0,  0], dtype=uint8)"
      ]
     },
     "execution_count": 23,
     "metadata": {},
     "output_type": "execute_result"
    }
   ],
   "source": [
    "X1[2]"
   ]
  },
  {
   "cell_type": "code",
   "execution_count": 24,
   "metadata": {},
   "outputs": [
    {
     "data": {
      "image/png": "[encoded data removed]",
      "text/plain": [
       "<matplotlib.figure.Figure at 0x2e2c23b14a8>"
      ]
     },
     "metadata": {},
     "output_type": "display_data"
    }
   ],
   "source": [
    "#Pixel intensity histogram\n",
    "plt.hist(X1[2], bins=256, range=(0,256), normed=True)\n",
    "plt.title('one image - pixel intensity distribution')\n",
    "plt.show()"
   ]
  },
  {
   "cell_type": "markdown",
   "metadata": {},
   "source": [
    "### Compute PCA"
   ]
  },
  {
   "cell_type": "code",
   "execution_count": 25,
   "metadata": {},
   "outputs": [
    {
     "data": {
      "text/plain": [
       "Text(0.5,1,'Original image')"
      ]
     },
     "execution_count": 25,
     "metadata": {},
     "output_type": "execute_result"
    },
    {
     "data": {
      "image/png": "[encoded data removed]",
      "text/plain": [
       "<matplotlib.figure.Figure at 0x2e2c266ff60>"
      ]
     },
     "metadata": {},
     "output_type": "display_data"
    }
   ],
   "source": [
    "#Original Image\n",
    "regenerateImages(X1[2])\n",
    "plt.imshow(X1[2].reshape(32,32),interpolation = 'None', cmap = 'gray')\n",
    "plt.title('Original image')\n"
   ]
  },
  {
   "cell_type": "code",
   "execution_count": 26,
   "metadata": {},
   "outputs": [
    {
     "data": {
      "text/plain": [
       "Text(0.5,1,'Mean image')"
      ]
     },
     "execution_count": 26,
     "metadata": {},
     "output_type": "execute_result"
    },
    {
     "data": {
      "image/png": "[encoded data removed]",
      "text/plain": [
       "<matplotlib.figure.Figure at 0x2e2c21acf28>"
      ]
     },
     "metadata": {},
     "output_type": "display_data"
    }
   ],
   "source": [
    "# XZCVPR process\n",
    "mu = np.mean(X1, axis=0)\n",
    "Z = X1 - mu;\n",
    "plt.imshow(Z[2].reshape(32,32),interpolation = 'None', cmap = 'gray')\n",
    "plt.title('Mean image')\n",
    "\n"
   ]
  },
  {
   "cell_type": "code",
   "execution_count": 27,
   "metadata": {},
   "outputs": [
    {
     "data": {
      "text/plain": [
       "Text(0.5,1,'Recovered image from eigen vector without mean')"
      ]
     },
     "execution_count": 27,
     "metadata": {},
     "output_type": "execute_result"
    },
    {
     "data": {
      "image/png": "[encoded data removed]",
      "text/plain": [
       "<matplotlib.figure.Figure at 0x2e2c214c5f8>"
      ]
     },
     "metadata": {},
     "output_type": "display_data"
    }
   ],
   "source": [
    "C = np.cov(Z, rowvar=False)\n",
    "[Lambda, V] = LA.eigh(C)\n",
    "Lambda=np.flipud(Lambda)\n",
    "V=np.flipud(V.T)\n",
    "V = V[:2]\n",
    "P=np.dot(Z, V.T)\n",
    "P.shape\n",
    "R=np.dot(P,V)\n",
    "#regenerateImages(R[2])\n",
    "plt.imshow(R[2].reshape(32,32),interpolation = 'None', cmap = 'gray')\n",
    "plt.title('Recovered image from eigen vector without mean')\n"
   ]
  },
  {
   "cell_type": "code",
   "execution_count": 63,
   "metadata": {},
   "outputs": [
    {
     "data": {
      "text/plain": [
       "array([ 136.04007739, -693.57795902,  -94.40496616, ...,  195.13463826,\n",
       "        723.34422027, -256.80658395])"
      ]
     },
     "execution_count": 63,
     "metadata": {},
     "output_type": "execute_result"
    }
   ],
   "source": [
    "P.shape\n",
    "#P[:, 1]\n",
    "#P[:, 0]"
   ]
  },
  {
   "cell_type": "code",
   "execution_count": 48,
   "metadata": {},
   "outputs": [
    {
     "data": {
      "text/plain": [
       "Text(0.5,1,'Recovered image ')"
      ]
     },
     "execution_count": 48,
     "metadata": {},
     "output_type": "execute_result"
    },
    {
     "data": {
      "image/png": "[encoded data removed]",
      "text/plain": [
       "<matplotlib.figure.Figure at 0x2e2c50b3390>"
      ]
     },
     "metadata": {},
     "output_type": "display_data"
    }
   ],
   "source": [
    "Xrec=R+mu\n",
    "#regenerateImages(Xrec[2])#Not bad! may be the resolution needs to be tweaked\n",
    "plt.imshow(Xrec[2].reshape(32,32),interpolation = 'None', cmap = 'gray')\n",
    "plt.title('Recovered image ')"
   ]
  },
  {
   "cell_type": "code",
   "execution_count": 49,
   "metadata": {},
   "outputs": [
    {
     "data": {
      "image/png": "[encoded data removed]",
      "text/plain": [
       "<matplotlib.figure.Figure at 0x2e2c4d7bd68>"
      ]
     },
     "metadata": {},
     "output_type": "display_data"
    }
   ],
   "source": [
    "#Pixel intensity histogram\n",
    "plt.hist(Xrec[2], bins=256, range=(0,256), normed=True)\n",
    "plt.title('recovered image - pixel intensity distribution')\n",
    "plt.show()"
   ]
  },
  {
   "cell_type": "code",
   "execution_count": 50,
   "metadata": {},
   "outputs": [],
   "source": [
    "X_test,Y_test = flatImages(test,selectedLabels=[0,1])"
   ]
  },
  {
   "cell_type": "code",
   "execution_count": 51,
   "metadata": {},
   "outputs": [
    {
     "data": {
      "text/plain": [
       "3875"
      ]
     },
     "execution_count": 51,
     "metadata": {},
     "output_type": "execute_result"
    }
   ],
   "source": [
    "# generate unique labels and counts in our labels dataset\n",
    "T1 = T1.flatten()\n",
    "[[labeln, labelp], [Nn, Np]] = np.unique(T1, return_counts=True);\n",
    "labeln#unique values i.e. 0\n",
    "labelp#unique valuesi.e. 1(Pneumonia)\n",
    "Nn# 0 existed times =1341\n",
    "Np# 1 existed times=3875(Pneumonia is clearly predominant)"
   ]
  },
  {
   "cell_type": "code",
   "execution_count": 52,
   "metadata": {},
   "outputs": [
    {
     "data": {
      "text/plain": [
       "array([3041.65379923, 1293.0536484 ])"
      ]
     },
     "execution_count": 52,
     "metadata": {},
     "output_type": "execute_result"
    }
   ],
   "source": [
    "B = 32\n",
    "mn = np.amin(P, axis=0)\n",
    "mx = np.amax(P, axis=0)\n",
    "p1min = mn[0]\n",
    "p1max = mx[0]\n",
    "p2min = mn[1]\n",
    "p2max = mx[1]\n",
    "\n",
    "mn#minimum value along each dimension i.e. 2 max values for 2 dimensions\n",
    "mx#maximum value along each dimension i.e. 2 max values for 2 dimensions\n",
    "\n",
    "\n",
    "\n"
   ]
  },
  {
   "cell_type": "code",
   "execution_count": 53,
   "metadata": {},
   "outputs": [
    {
     "name": "stdout",
     "output_type": "stream",
     "text": [
      "Shape of normal patients' Histogram is  (32, 32)\n",
      "Normal patients' Histogram is  [[0 0 0 ... 0 0 0]\n",
      " [0 0 0 ... 0 0 0]\n",
      " [0 0 0 ... 0 0 0]\n",
      " ...\n",
      " [0 0 0 ... 0 0 0]\n",
      " [0 0 0 ... 0 0 0]\n",
      " [0 0 0 ... 0 0 0]]\n",
      "Shape of Pneumoniatic patients' Histogram is  (32, 32)\n",
      "Pneumonia patients' Histogram is  [[0 0 0 ... 0 0 0]\n",
      " [0 0 0 ... 0 0 0]\n",
      " [0 0 0 ... 0 0 0]\n",
      " ...\n",
      " [0 0 0 ... 0 0 0]\n",
      " [0 0 0 ... 0 0 0]\n",
      " [0 0 0 ... 0 0 0]]\n"
     ]
    }
   ],
   "source": [
    "[Hn, Hp] = Build2DHistograms(P, T1, B, mn, mx)\n",
    "\n",
    "print(\"Shape of normal patients' Histogram is \",Hn.shape)\n",
    "print(\"Normal patients' Histogram is \",Hn)\n",
    "print(\"Shape of Pneumoniatic patients' Histogram is \",Hp.shape)\n",
    "print(\"Pneumonia patients' Histogram is \",Hp)\n",
    "\n"
   ]
  },
  {
   "cell_type": "code",
   "execution_count": 54,
   "metadata": {},
   "outputs": [],
   "source": [
    "#Write numpy array to excel file"
   ]
  },
  {
   "cell_type": "code",
   "execution_count": 55,
   "metadata": {},
   "outputs": [],
   "source": [
    "df1 = pd.DataFrame (Hn)\n",
    "df2 = pd.DataFrame (Hp)\n",
    "\n",
    "## save to xlsx file\n",
    "\n",
    "filepath1 = 'G:/UCSC/machine learning/Final Project PCA/HnFile.xlsx'\n",
    "filepath2 = 'G:/UCSC/machine learning/Final Project PCA/HpFile.xlsx'\n",
    "\n",
    "df1.to_excel(filepath1, index=False)\n",
    "df2.to_excel(filepath2, index=False)"
   ]
  },
  {
   "cell_type": "code",
   "execution_count": 36,
   "metadata": {},
   "outputs": [
    {
     "data": {
      "text/plain": [
       "([array([32.,  0.,  0.,  0.,  0.,  0.,  0.,  0.,  0.,  0.,  0.,  0.,  0.,\n",
       "          0.,  0.,  0.,  0.,  0.,  0.,  0.,  0.,  0.,  0.,  0.,  0.,  0.,\n",
       "          0.,  0.,  0.,  0.,  0.,  0.]),\n",
       "  array([32.,  0.,  0.,  0.,  0.,  0.,  0.,  0.,  0.,  0.,  0.,  0.,  0.,\n",
       "          0.,  0.,  0.,  0.,  0.,  0.,  0.,  0.,  0.,  0.,  0.,  0.,  0.,\n",
       "          0.,  0.,  0.,  0.,  0.,  0.]),\n",
       "  array([32.,  0.,  0.,  0.,  0.,  0.,  0.,  0.,  0.,  0.,  0.,  0.,  0.,\n",
       "          0.,  0.,  0.,  0.,  0.,  0.,  0.,  0.,  0.,  0.,  0.,  0.,  0.,\n",
       "          0.,  0.,  0.,  0.,  0.,  0.]),\n",
       "  array([31.,  1.,  0.,  0.,  0.,  0.,  0.,  0.,  0.,  0.,  0.,  0.,  0.,\n",
       "          0.,  0.,  0.,  0.,  0.,  0.,  0.,  0.,  0.,  0.,  0.,  0.,  0.,\n",
       "          0.,  0.,  0.,  0.,  0.,  0.]),\n",
       "  array([28.,  4.,  0.,  0.,  0.,  0.,  0.,  0.,  0.,  0.,  0.,  0.,  0.,\n",
       "          0.,  0.,  0.,  0.,  0.,  0.,  0.,  0.,  0.,  0.,  0.,  0.,  0.,\n",
       "          0.,  0.,  0.,  0.,  0.,  0.]),\n",
       "  array([26.,  4.,  2.,  0.,  0.,  0.,  0.,  0.,  0.,  0.,  0.,  0.,  0.,\n",
       "          0.,  0.,  0.,  0.,  0.,  0.,  0.,  0.,  0.,  0.,  0.,  0.,  0.,\n",
       "          0.,  0.,  0.,  0.,  0.,  0.]),\n",
       "  array([25.,  2.,  1.,  0.,  2.,  1.,  0.,  0.,  0.,  1.,  0.,  0.,  0.,\n",
       "          0.,  0.,  0.,  0.,  0.,  0.,  0.,  0.,  0.,  0.,  0.,  0.,  0.,\n",
       "          0.,  0.,  0.,  0.,  0.,  0.]),\n",
       "  array([21.,  5.,  2.,  0.,  0.,  1.,  1.,  0.,  0.,  2.,  0.,  0.,  0.,\n",
       "          0.,  0.,  0.,  0.,  0.,  0.,  0.,  0.,  0.,  0.,  0.,  0.,  0.,\n",
       "          0.,  0.,  0.,  0.,  0.,  0.]),\n",
       "  array([19.,  2.,  3.,  0.,  1.,  1.,  1.,  0.,  2.,  1.,  0.,  0.,  0.,\n",
       "          0.,  0.,  1.,  0.,  0.,  0.,  0.,  0.,  0.,  1.,  0.,  0.,  0.,\n",
       "          0.,  0.,  0.,  0.,  0.,  0.]),\n",
       "  array([23.,  1.,  1.,  0.,  0.,  1.,  0.,  0.,  0.,  0.,  0.,  2.,  1.,\n",
       "          2.,  0.,  0.,  0.,  0.,  0.,  0.,  1.,  0.,  0.,  0.,  0.,  0.,\n",
       "          0.,  0.,  0.,  0.,  0.,  0.]),\n",
       "  array([19.,  4.,  0.,  0.,  1.,  1.,  0.,  0.,  0.,  0.,  0.,  1.,  2.,\n",
       "          0.,  0.,  0.,  0.,  0.,  0.,  0.,  1.,  0.,  0.,  1.,  0.,  1.,\n",
       "          0.,  0.,  0.,  0.,  0.,  1.]),\n",
       "  array([21.,  0.,  1.,  0.,  1.,  2.,  1.,  0.,  0.,  1.,  0.,  0.,  0.,\n",
       "          0.,  0.,  2.,  0.,  0.,  1.,  1.,  0.,  0.,  1.,  0.,  0.,  0.,\n",
       "          0.,  0.,  0.,  0.,  0.,  0.]),\n",
       "  array([19.,  2.,  1.,  0.,  0.,  3.,  0.,  0.,  1.,  0.,  0.,  0.,  0.,\n",
       "          0.,  0.,  0.,  1.,  0.,  0.,  1.,  0.,  0.,  1.,  0.,  0.,  1.,\n",
       "          0.,  0.,  0.,  2.,  0.,  0.]),\n",
       "  array([18.,  2.,  4.,  0.,  1.,  0.,  1.,  0.,  0.,  1.,  0.,  0.,  0.,\n",
       "          1.,  0.,  0.,  1.,  0.,  0.,  1.,  0.,  0.,  1.,  0.,  0.,  0.,\n",
       "          1.,  0.,  0.,  0.,  0.,  0.]),\n",
       "  array([18.,  4.,  0.,  0.,  2.,  0.,  1.,  0.,  2.,  0.,  0.,  0.,  0.,\n",
       "          0.,  0.,  0.,  0.,  0.,  1.,  0.,  0.,  0.,  0.,  0.,  0.,  1.,\n",
       "          1.,  0.,  0.,  1.,  1.,  0.]),\n",
       "  array([20.,  1.,  4.,  0.,  0.,  1.,  0.,  0.,  0.,  0.,  0.,  0.,  0.,\n",
       "          0.,  0.,  2.,  0.,  0.,  1.,  0.,  1.,  0.,  0.,  0.,  0.,  0.,\n",
       "          0.,  1.,  0.,  0.,  0.,  1.]),\n",
       "  array([18.,  3.,  3.,  0.,  0.,  1.,  0.,  0.,  0.,  1.,  0.,  0.,  1.,\n",
       "          1.,  0.,  1.,  0.,  0.,  1.,  0.,  0.,  0.,  0.,  1.,  0.,  1.,\n",
       "          0.,  0.,  0.,  0.,  0.,  0.]),\n",
       "  array([19.,  2.,  3.,  0.,  1.,  0.,  2.,  0.,  1.,  0.,  0.,  0.,  1.,\n",
       "          1.,  0.,  1.,  0.,  0.,  0.,  0.,  0.,  0.,  1.,  0.,  0.,  0.,\n",
       "          0.,  0.,  0.,  0.,  0.,  0.]),\n",
       "  array([18.,  5.,  1.,  0.,  1.,  1.,  0.,  0.,  0.,  1.,  0.,  2.,  0.,\n",
       "          0.,  0.,  2.,  0.,  0.,  0.,  0.,  0.,  0.,  0.,  0.,  0.,  1.,\n",
       "          0.,  0.,  0.,  0.,  0.,  0.]),\n",
       "  array([20.,  2.,  1.,  0.,  2.,  0.,  3.,  0.,  0.,  0.,  0.,  0.,  1.,\n",
       "          0.,  0.,  1.,  1.,  0.,  0.,  0.,  1.,  0.,  0.,  0.,  0.,  0.,\n",
       "          0.,  0.,  0.,  0.,  0.,  0.]),\n",
       "  array([20.,  3.,  1.,  0.,  1.,  2.,  0.,  0.,  3.,  0.,  0.,  2.,  0.,\n",
       "          0.,  0.,  0.,  0.,  0.,  0.,  0.,  0.,  0.,  0.,  0.,  0.,  0.,\n",
       "          0.,  0.,  0.,  0.,  0.,  0.]),\n",
       "  array([22.,  4.,  0.,  0.,  1.,  1.,  2.,  0.,  0.,  1.,  0.,  0.,  0.,\n",
       "          0.,  0.,  1.,  0.,  0.,  0.,  0.,  0.,  0.,  0.,  0.,  0.,  0.,\n",
       "          0.,  0.,  0.,  0.,  0.,  0.]),\n",
       "  array([21.,  4.,  5.,  0.,  1.,  0.,  0.,  0.,  1.,  0.,  0.,  0.,  0.,\n",
       "          0.,  0.,  0.,  0.,  0.,  0.,  0.,  0.,  0.,  0.,  0.,  0.,  0.,\n",
       "          0.,  0.,  0.,  0.,  0.,  0.]),\n",
       "  array([21.,  3.,  3.,  0.,  5.,  0.,  0.,  0.,  0.,  0.,  0.,  0.,  0.,\n",
       "          0.,  0.,  0.,  0.,  0.,  0.,  0.,  0.,  0.,  0.,  0.,  0.,  0.,\n",
       "          0.,  0.,  0.,  0.,  0.,  0.]),\n",
       "  array([24.,  4.,  3.,  0.,  1.,  0.,  0.,  0.,  0.,  0.,  0.,  0.,  0.,\n",
       "          0.,  0.,  0.,  0.,  0.,  0.,  0.,  0.,  0.,  0.,  0.,  0.,  0.,\n",
       "          0.,  0.,  0.,  0.,  0.,  0.]),\n",
       "  array([25.,  4.,  3.,  0.,  0.,  0.,  0.,  0.,  0.,  0.,  0.,  0.,  0.,\n",
       "          0.,  0.,  0.,  0.,  0.,  0.,  0.,  0.,  0.,  0.,  0.,  0.,  0.,\n",
       "          0.,  0.,  0.,  0.,  0.,  0.]),\n",
       "  array([25.,  6.,  1.,  0.,  0.,  0.,  0.,  0.,  0.,  0.,  0.,  0.,  0.,\n",
       "          0.,  0.,  0.,  0.,  0.,  0.,  0.,  0.,  0.,  0.,  0.,  0.,  0.,\n",
       "          0.,  0.,  0.,  0.,  0.,  0.]),\n",
       "  array([28.,  4.,  0.,  0.,  0.,  0.,  0.,  0.,  0.,  0.,  0.,  0.,  0.,\n",
       "          0.,  0.,  0.,  0.,  0.,  0.,  0.,  0.,  0.,  0.,  0.,  0.,  0.,\n",
       "          0.,  0.,  0.,  0.,  0.,  0.]),\n",
       "  array([31.,  1.,  0.,  0.,  0.,  0.,  0.,  0.,  0.,  0.,  0.,  0.,  0.,\n",
       "          0.,  0.,  0.,  0.,  0.,  0.,  0.,  0.,  0.,  0.,  0.,  0.,  0.,\n",
       "          0.,  0.,  0.,  0.,  0.,  0.]),\n",
       "  array([31.,  0.,  1.,  0.,  0.,  0.,  0.,  0.,  0.,  0.,  0.,  0.,  0.,\n",
       "          0.,  0.,  0.,  0.,  0.,  0.,  0.,  0.,  0.,  0.,  0.,  0.,  0.,\n",
       "          0.,  0.,  0.,  0.,  0.,  0.]),\n",
       "  array([30.,  2.,  0.,  0.,  0.,  0.,  0.,  0.,  0.,  0.,  0.,  0.,  0.,\n",
       "          0.,  0.,  0.,  0.,  0.,  0.,  0.,  0.,  0.,  0.,  0.,  0.,  0.,\n",
       "          0.,  0.,  0.,  0.,  0.,  0.]),\n",
       "  array([32.,  0.,  0.,  0.,  0.,  0.,  0.,  0.,  0.,  0.,  0.,  0.,  0.,\n",
       "          0.,  0.,  0.,  0.,  0.,  0.,  0.,  0.,  0.,  0.,  0.,  0.,  0.,\n",
       "          0.,  0.,  0.,  0.,  0.,  0.])],\n",
       " array([ 0.     ,  0.71875,  1.4375 ,  2.15625,  2.875  ,  3.59375,\n",
       "         4.3125 ,  5.03125,  5.75   ,  6.46875,  7.1875 ,  7.90625,\n",
       "         8.625  ,  9.34375, 10.0625 , 10.78125, 11.5    , 12.21875,\n",
       "        12.9375 , 13.65625, 14.375  , 15.09375, 15.8125 , 16.53125,\n",
       "        17.25   , 17.96875, 18.6875 , 19.40625, 20.125  , 20.84375,\n",
       "        21.5625 , 22.28125, 23.     ]),\n",
       " <a list of 32 Lists of Patches objects>)"
      ]
     },
     "execution_count": 36,
     "metadata": {},
     "output_type": "execute_result"
    },
    {
     "data": {
      "image/png": "[encoded data removed]",
      "text/plain": [
       "<matplotlib.figure.Figure at 0x2e2c2752dd8>"
      ]
     },
     "metadata": {},
     "output_type": "display_data"
    }
   ],
   "source": [
    "plt.hist(Hn, bins=32)"
   ]
  },
  {
   "cell_type": "code",
   "execution_count": 37,
   "metadata": {},
   "outputs": [
    {
     "data": {
      "text/plain": [
       "([array([31.,  1.,  0.,  0.,  0.,  0.,  0.,  0.,  0.,  0.,  0.,  0.,  0.,\n",
       "          0.,  0.,  0.,  0.,  0.,  0.,  0.,  0.,  0.,  0.,  0.,  0.,  0.,\n",
       "          0.,  0.,  0.,  0.,  0.,  0.]),\n",
       "  array([30.,  1.,  1.,  0.,  0.,  0.,  0.,  0.,  0.,  0.,  0.,  0.,  0.,\n",
       "          0.,  0.,  0.,  0.,  0.,  0.,  0.,  0.,  0.,  0.,  0.,  0.,  0.,\n",
       "          0.,  0.,  0.,  0.,  0.,  0.]),\n",
       "  array([27.,  5.,  0.,  0.,  0.,  0.,  0.,  0.,  0.,  0.,  0.,  0.,  0.,\n",
       "          0.,  0.,  0.,  0.,  0.,  0.,  0.,  0.,  0.,  0.,  0.,  0.,  0.,\n",
       "          0.,  0.,  0.,  0.,  0.,  0.]),\n",
       "  array([28.,  1.,  0.,  0.,  2.,  0.,  1.,  0.,  0.,  0.,  0.,  0.,  0.,\n",
       "          0.,  0.,  0.,  0.,  0.,  0.,  0.,  0.,  0.,  0.,  0.,  0.,  0.,\n",
       "          0.,  0.,  0.,  0.,  0.,  0.]),\n",
       "  array([23.,  0.,  3.,  1.,  2.,  0.,  2.,  1.,  0.,  0.,  0.,  0.,  0.,\n",
       "          0.,  0.,  0.,  0.,  0.,  0.,  0.,  0.,  0.,  0.,  0.,  0.,  0.,\n",
       "          0.,  0.,  0.,  0.,  0.,  0.]),\n",
       "  array([20.,  4.,  1.,  0.,  2.,  0.,  0.,  1.,  2.,  2.,  0.,  0.,  0.,\n",
       "          0.,  0.,  0.,  0.,  0.,  0.,  0.,  0.,  0.,  0.,  0.,  0.,  0.,\n",
       "          0.,  0.,  0.,  0.,  0.,  0.]),\n",
       "  array([21.,  1.,  2.,  0.,  2.,  0.,  2.,  1.,  0.,  1.,  2.,  0.,  0.,\n",
       "          0.,  0.,  0.,  0.,  0.,  0.,  0.,  0.,  0.,  0.,  0.,  0.,  0.,\n",
       "          0.,  0.,  0.,  0.,  0.,  0.]),\n",
       "  array([20.,  1.,  3.,  1.,  1.,  1.,  3.,  0.,  2.,  0.,  0.,  0.,  0.,\n",
       "          0.,  0.,  0.,  0.,  0.,  0.,  0.,  0.,  0.,  0.,  0.,  0.,  0.,\n",
       "          0.,  0.,  0.,  0.,  0.,  0.]),\n",
       "  array([20.,  0.,  1.,  1.,  3.,  0.,  2.,  0.,  3.,  2.,  0.,  0.,  0.,\n",
       "          0.,  0.,  0.,  0.,  0.,  0.,  0.,  0.,  0.,  0.,  0.,  0.,  0.,\n",
       "          0.,  0.,  0.,  0.,  0.,  0.]),\n",
       "  array([16.,  1.,  4.,  2.,  2.,  0.,  1.,  1.,  1.,  1.,  1.,  1.,  1.,\n",
       "          0.,  0.,  0.,  0.,  0.,  0.,  0.,  0.,  0.,  0.,  0.,  0.,  0.,\n",
       "          0.,  0.,  0.,  0.,  0.,  0.]),\n",
       "  array([18.,  3.,  1.,  0.,  0.,  0.,  2.,  0.,  1.,  0.,  1.,  3.,  2.,\n",
       "          1.,  0.,  0.,  0.,  0.,  0.,  0.,  0.,  0.,  0.,  0.,  0.,  0.,\n",
       "          0.,  0.,  0.,  0.,  0.,  0.]),\n",
       "  array([16.,  0.,  1.,  3.,  1.,  2.,  2.,  0.,  0.,  1.,  0.,  1.,  1.,\n",
       "          3.,  0.,  1.,  0.,  0.,  0.,  0.,  0.,  0.,  0.,  0.,  0.,  0.,\n",
       "          0.,  0.,  0.,  0.,  0.,  0.]),\n",
       "  array([16.,  0.,  6.,  0.,  0.,  0.,  1.,  1.,  1.,  2.,  1.,  0.,  1.,\n",
       "          1.,  0.,  1.,  1.,  0.,  0.,  0.,  0.,  0.,  0.,  0.,  0.,  0.,\n",
       "          0.,  0.,  0.,  0.,  0.,  0.]),\n",
       "  array([13.,  3.,  2.,  2.,  1.,  0.,  0.,  1.,  4.,  0.,  0.,  0.,  2.,\n",
       "          0.,  0.,  0.,  2.,  0.,  0.,  1.,  0.,  1.,  0.,  0.,  0.,  0.,\n",
       "          0.,  0.,  0.,  0.,  0.,  0.]),\n",
       "  array([14.,  1.,  4.,  0.,  1.,  0.,  0.,  0.,  2.,  0.,  2.,  1.,  0.,\n",
       "          0.,  0.,  2.,  1.,  0.,  0.,  2.,  1.,  0.,  1.,  0.,  0.,  0.,\n",
       "          0.,  0.,  0.,  0.,  0.,  0.]),\n",
       "  array([14.,  0.,  3.,  0.,  0.,  2.,  1.,  0.,  2.,  0.,  1.,  0.,  3.,\n",
       "          2.,  0.,  0.,  0.,  0.,  0.,  0.,  0.,  1.,  0.,  2.,  1.,  0.,\n",
       "          0.,  0.,  0.,  0.,  0.,  0.]),\n",
       "  array([14.,  1.,  4.,  0.,  1.,  1.,  1.,  0.,  0.,  1.,  0.,  0.,  1.,\n",
       "          1.,  0.,  0.,  3.,  0.,  0.,  0.,  1.,  0.,  1.,  0.,  0.,  0.,\n",
       "          1.,  0.,  0.,  0.,  0.,  1.]),\n",
       "  array([13.,  2.,  1.,  2.,  2.,  1.,  0.,  0.,  1.,  1.,  1.,  0.,  0.,\n",
       "          0.,  2.,  0.,  3.,  1.,  0.,  0.,  0.,  1.,  0.,  0.,  0.,  0.,\n",
       "          1.,  0.,  0.,  0.,  0.,  0.]),\n",
       "  array([12.,  1.,  1.,  1.,  3.,  0.,  1.,  0.,  4.,  0.,  3.,  0.,  1.,\n",
       "          0.,  0.,  0.,  1.,  2.,  0.,  0.,  2.,  0.,  0.,  0.,  0.,  0.,\n",
       "          0.,  0.,  0.,  0.,  0.,  0.]),\n",
       "  array([13.,  1.,  3.,  0.,  0.,  1.,  2.,  2.,  3.,  1.,  1.,  1.,  0.,\n",
       "          2.,  1.,  1.,  0.,  0.,  0.,  0.,  0.,  0.,  0.,  0.,  0.,  0.,\n",
       "          0.,  0.,  0.,  0.,  0.,  0.]),\n",
       "  array([10.,  3.,  2.,  0.,  1.,  1.,  7.,  1.,  5.,  0.,  2.,  0.,  0.,\n",
       "          0.,  0.,  0.,  0.,  0.,  0.,  0.,  0.,  0.,  0.,  0.,  0.,  0.,\n",
       "          0.,  0.,  0.,  0.,  0.,  0.]),\n",
       "  array([12.,  2.,  5.,  0.,  4.,  1.,  3.,  1.,  4.,  0.,  0.,  0.,  0.,\n",
       "          0.,  0.,  0.,  0.,  0.,  0.,  0.,  0.,  0.,  0.,  0.,  0.,  0.,\n",
       "          0.,  0.,  0.,  0.,  0.,  0.]),\n",
       "  array([11.,  4.,  7.,  0.,  3.,  1.,  3.,  2.,  0.,  0.,  1.,  0.,  0.,\n",
       "          0.,  0.,  0.,  0.,  0.,  0.,  0.,  0.,  0.,  0.,  0.,  0.,  0.,\n",
       "          0.,  0.,  0.,  0.,  0.,  0.]),\n",
       "  array([14.,  3.,  8.,  4.,  1.,  1.,  1.,  0.,  0.,  0.,  0.,  0.,  0.,\n",
       "          0.,  0.,  0.,  0.,  0.,  0.,  0.,  0.,  0.,  0.,  0.,  0.,  0.,\n",
       "          0.,  0.,  0.,  0.,  0.,  0.]),\n",
       "  array([19.,  2.,  5.,  4.,  1.,  0.,  1.,  0.,  0.,  0.,  0.,  0.,  0.,\n",
       "          0.,  0.,  0.,  0.,  0.,  0.,  0.,  0.,  0.,  0.,  0.,  0.,  0.,\n",
       "          0.,  0.,  0.,  0.,  0.,  0.]),\n",
       "  array([19.,  7.,  6.,  0.,  0.,  0.,  0.,  0.,  0.,  0.,  0.,  0.,  0.,\n",
       "          0.,  0.,  0.,  0.,  0.,  0.,  0.,  0.,  0.,  0.,  0.,  0.,  0.,\n",
       "          0.,  0.,  0.,  0.,  0.,  0.]),\n",
       "  array([28.,  2.,  2.,  0.,  0.,  0.,  0.,  0.,  0.,  0.,  0.,  0.,  0.,\n",
       "          0.,  0.,  0.,  0.,  0.,  0.,  0.,  0.,  0.,  0.,  0.,  0.,  0.,\n",
       "          0.,  0.,  0.,  0.,  0.,  0.]),\n",
       "  array([31.,  1.,  0.,  0.,  0.,  0.,  0.,  0.,  0.,  0.,  0.,  0.,  0.,\n",
       "          0.,  0.,  0.,  0.,  0.,  0.,  0.,  0.,  0.,  0.,  0.,  0.,  0.,\n",
       "          0.,  0.,  0.,  0.,  0.,  0.]),\n",
       "  array([31.,  1.,  0.,  0.,  0.,  0.,  0.,  0.,  0.,  0.,  0.,  0.,  0.,\n",
       "          0.,  0.,  0.,  0.,  0.,  0.,  0.,  0.,  0.,  0.,  0.,  0.,  0.,\n",
       "          0.,  0.,  0.,  0.,  0.,  0.]),\n",
       "  array([32.,  0.,  0.,  0.,  0.,  0.,  0.,  0.,  0.,  0.,  0.,  0.,  0.,\n",
       "          0.,  0.,  0.,  0.,  0.,  0.,  0.,  0.,  0.,  0.,  0.,  0.,  0.,\n",
       "          0.,  0.,  0.,  0.,  0.,  0.]),\n",
       "  array([32.,  0.,  0.,  0.,  0.,  0.,  0.,  0.,  0.,  0.,  0.,  0.,  0.,\n",
       "          0.,  0.,  0.,  0.,  0.,  0.,  0.,  0.,  0.,  0.,  0.,  0.,  0.,\n",
       "          0.,  0.,  0.,  0.,  0.,  0.]),\n",
       "  array([32.,  0.,  0.,  0.,  0.,  0.,  0.,  0.,  0.,  0.,  0.,  0.,  0.,\n",
       "          0.,  0.,  0.,  0.,  0.,  0.,  0.,  0.,  0.,  0.,  0.,  0.,  0.,\n",
       "          0.,  0.,  0.,  0.,  0.,  0.])],\n",
       " array([ 0. ,  1.5,  3. ,  4.5,  6. ,  7.5,  9. , 10.5, 12. , 13.5, 15. ,\n",
       "        16.5, 18. , 19.5, 21. , 22.5, 24. , 25.5, 27. , 28.5, 30. , 31.5,\n",
       "        33. , 34.5, 36. , 37.5, 39. , 40.5, 42. , 43.5, 45. , 46.5, 48. ]),\n",
       " <a list of 32 Lists of Patches objects>)"
      ]
     },
     "execution_count": 37,
     "metadata": {},
     "output_type": "execute_result"
    },
    {
     "data": {
      "image/png": "[encoded data removed]",
      "text/plain": [
       "<matplotlib.figure.Figure at 0x2e2c27a7240>"
      ]
     },
     "metadata": {},
     "output_type": "display_data"
    }
   ],
   "source": [
    "plt.hist(Hp, bins=32)"
   ]
  },
  {
   "cell_type": "code",
   "execution_count": 38,
   "metadata": {},
   "outputs": [
    {
     "data": {
      "text/plain": [
       "(array([   0,    1,    2, ..., 5213, 5214, 5215], dtype=int64),)"
      ]
     },
     "execution_count": 38,
     "metadata": {},
     "output_type": "execute_result"
    }
   ],
   "source": [
    "[Hlabels, Hprobs] = Histogram2DClassifier(P, mn, mx, Hn, Hp, labeln, labelp)\n",
    "np.where(Hlabels==1)"
   ]
  },
  {
   "cell_type": "code",
   "execution_count": 72,
   "metadata": {},
   "outputs": [
    {
     "data": {
      "text/plain": [
       "74.29064417177914"
      ]
     },
     "execution_count": 72,
     "metadata": {},
     "output_type": "execute_result"
    }
   ],
   "source": [
    "accuracyH = accuracy(T1, Hlabels)*100\n",
    "accuracyH\n",
    "#P.shape"
   ]
  },
  {
   "cell_type": "code",
   "execution_count": 40,
   "metadata": {},
   "outputs": [
    {
     "data": {
      "text/plain": [
       "array([1, 1, 1, ..., 1, 1, 1])"
      ]
     },
     "execution_count": 40,
     "metadata": {},
     "output_type": "execute_result"
    }
   ],
   "source": [
    "#Bayesian classifier\n",
    "#P#2 dimensions for all the observations\n",
    "mun = np.mean(P[T1==labeln], axis=0)\n",
    "mun\n",
    "mup = np.mean(P[T1==labelp], axis=0)\n",
    "mup\n",
    "cn = np.cov(P[T1==labeln], rowvar=False)\n",
    "cn\n",
    "cp = np.cov(P[T1==labelp], rowvar=False)\n",
    "cp\n",
    "\n",
    "[Blabels, Bprobs] = Bayesian2DClassifier(P, Nn, Np, mun, mup, cn, cp, labeln, labelp)\n",
    "[Blabels, Bprobs]\n",
    "Blabels\n"
   ]
  },
  {
   "cell_type": "code",
   "execution_count": 41,
   "metadata": {},
   "outputs": [
    {
     "data": {
      "text/plain": [
       "74.29064417177914"
      ]
     },
     "execution_count": 41,
     "metadata": {},
     "output_type": "execute_result"
    }
   ],
   "source": [
    "accuracyB = accuracy(T1, Blabels)*100\n",
    "accuracyB"
   ]
  },
  {
   "cell_type": "markdown",
   "metadata": {},
   "source": [
    "### Plot Confusion Matrix"
   ]
  },
  {
   "cell_type": "code",
   "execution_count": 56,
   "metadata": {},
   "outputs": [
    {
     "data": {
      "text/plain": [
       "(5216, 4)"
      ]
     },
     "execution_count": 56,
     "metadata": {},
     "output_type": "execute_result"
    }
   ],
   "source": [
    "cols = np.zeros((np.alen(T1), 4))\n",
    "cols.shape\n"
   ]
  },
  {
   "cell_type": "code",
   "execution_count": 60,
   "metadata": {},
   "outputs": [
    {
     "data": {
      "text/plain": [
       "(3875, 4)"
      ]
     },
     "execution_count": 60,
     "metadata": {},
     "output_type": "execute_result"
    }
   ],
   "source": [
    "cols[T1==labeln] = [1, 0, 0, 0.25]\n",
    "cols[T1==labelp] = [0, 1, 0, 0.25]\n",
    "#randomorder = permutations(np.arange(np.alen(T)))\n",
    "cols[T1==labeln].shape\n",
    "cols[T1==labelp].shape\n"
   ]
  },
  {
   "cell_type": "code",
   "execution_count": 64,
   "metadata": {},
   "outputs": [
    {
     "data": {
      "image/png": "[encoded data removed]",
      "text/plain": [
       "<matplotlib.figure.Figure at 0x2e2ce176390>"
      ]
     },
     "metadata": {},
     "output_type": "display_data"
    }
   ],
   "source": [
    "fig = pylab.figure()\n",
    "ax = fig.add_subplot(111, facecolor = \"black\")\n",
    "#ax.scatter(P[randomorder, 1], P[randomorder, 0], s=5, linewidths=0, facecolors=cols[randomorder, :], marker= \"o\")\n",
    "ax.scatter( P[:, 0],P[:, 1], s=5, linewidths=0, facecolors=cols[:, :], marker= \"o\")\n",
    "ax.set_aspect('equal')\n",
    "pylab.gca().invert_yaxis()"
   ]
  },
  {
   "cell_type": "code",
   "execution_count": 65,
   "metadata": {},
   "outputs": [
    {
     "name": "stderr",
     "output_type": "stream",
     "text": [
      "F:\\Anaconda\\lib\\site-packages\\sklearn\\utils\\validation.py:578: DataConversionWarning: A column-vector y was passed when a 1d array was expected. Please change the shape of y to (n_samples, ), for example using ravel().\n",
      "  y = column_or_1d(y, warn=True)\n"
     ]
    },
    {
     "data": {
      "text/plain": [
       "GaussianNB(priors=None)"
      ]
     },
     "execution_count": 65,
     "metadata": {},
     "output_type": "execute_result"
    }
   ],
   "source": [
    "from sklearn.naive_bayes import GaussianNB\n",
    "clf = GaussianNB()\n",
    "clf.fit(X_train, Y_train)\n",
    "GaussianNB(priors=None)\n",
    "\n"
   ]
  },
  {
   "cell_type": "code",
   "execution_count": 66,
   "metadata": {},
   "outputs": [
    {
     "name": "stdout",
     "output_type": "stream",
     "text": [
      "[1 0 1 1 1 1 1 1 1 1 1 1 0 1 1 1 1 1 0 1 1 1 1 0 1 1 1 1 1 0 0 1 1 0 1 0 0\n",
      " 0 0 0 0 0 0 0 0 1 1 1 0 1 0 0 0 0 0 0 1 0 0 1 0 1 1 0 0 0 1 0 0 0 0 0 0 0\n",
      " 0 0 0 0 0 0 1 0 0 1 1 0 0 1 0 1 1 0 0 0 1 1 1 0 0 0 0 0 0 0 0 1 1 0 0 0 0\n",
      " 0 1 0 0 0 0 0 0 0 1 1 1 1 0 0 0 1 0 1 1 0 1 1 1 1 0 1 0 0 0 1 0 1 1 1 1 1\n",
      " 1 0 0 0 0 1 0 0 0 0 1 1 1 0 0 1 0 1 1 1 0 0 0 0 0 0 0 0 0 0 0 1 0 0 1 0 0\n",
      " 0 1 0 0 0 0 0 1 1 0 0 0 0 1 0 1 0 0 0 1 1 0 0 0 0 0 0 0 0 0 0 0 0 1 1 1 1\n",
      " 1 0 0 0 1 0 0 0 1 0 0 0 1 1 1 1 1 1 1 1 1 1 1 0 1 1 1 1 1 1 1 1 1 1 1 1 1\n",
      " 1 1 1 1 1 1 1 1 1 1 1 1 1 1 1 1 1 1 1 1 1 1 1 1 1 1 1 1 1 0 1 1 1 1 1 1 1\n",
      " 1 1 0 1 1 1 1 1 1 1 1 1 1 1 1 1 1 1 1 1 1 1 1 1 1 1 1 1 1 1 1 1 1 1 1 1 1\n",
      " 1 0 1 1 1 1 1 1 1 1 1 1 1 1 1 1 1 1 1 1 1 1 1 1 0 1 1 1 1 1 1 1 1 1 1 1 1\n",
      " 1 1 1 1 1 1 1 1 1 1 1 1 0 1 1 1 1 1 0 1 0 0 1 1 1 1 1 1 1 1 1 1 1 1 0 0 1\n",
      " 1 1 0 1 0 0 0 0 1 1 1 0 1 0 0 0 1 0 1 1 0 1 1 0 0 1 0 0 0 0 0 0 0 1 1 1 1\n",
      " 1 0 1 1 1 1 1 1 1 1 1 0 0 1 0 0 0 1 1 0 0 1 1 1 0 0 0 1 1 0 1 1 1 1 1 0 1\n",
      " 1 1 1 1 1 1 1 1 1 1 1 1 1 0 0 0 0 0 1 0 1 0 0 0 0 1 1 1 1 0 0 0 0 1 0 1 1\n",
      " 1 0 0 0 0 1 0 0 0 0 1 0 0 0 1 0 1 0 0 1 0 0 1 0 0 1 0 1 0 0 0 1 1 0 1 1 1\n",
      " 1 1 1 1 1 1 1 1 1 1 1 0 0 1 1 1 1 1 1 1 1 1 1 1 1 1 1 1 1 1 1 1 1 1 1 1 1\n",
      " 1 1 1 1 1 1 1 0 1 0 1 1 1 1 1 1 1 1 1 1 1 1 1 1 1 1 1 1 1 1 1 0]\n"
     ]
    }
   ],
   "source": [
    "Gaussian_pred = clf.predict(X_test)\n",
    "print(Gaussian_pred)"
   ]
  },
  {
   "cell_type": "markdown",
   "metadata": {},
   "source": [
    "#### Plot Confusion Matrix"
   ]
  },
  {
   "cell_type": "code",
   "execution_count": 67,
   "metadata": {},
   "outputs": [],
   "source": [
    "import itertools"
   ]
  },
  {
   "cell_type": "code",
   "execution_count": 68,
   "metadata": {},
   "outputs": [],
   "source": [
    "def plot_confusion_matrix(cm, classes,\n",
    "                          normalize=False,\n",
    "                          title='Confusion matrix',\n",
    "                          cmap=plt.cm.Blues):\n",
    "    \"\"\"\n",
    "    This function prints and plots the confusion matrix.\n",
    "    Normalization can be applied by setting `normalize=True`.\n",
    "    \"\"\"\n",
    "    if normalize:\n",
    "        cm = cm.astype('float') / cm.sum(axis=1)[:, np.newaxis]\n",
    "        print(\"Normalized confusion matrix\")\n",
    "    else:\n",
    "        print('Confusion matrix, without normalization')\n",
    "\n",
    "    print(cm)\n",
    "\n",
    "    plt.imshow(cm, interpolation='nearest', cmap=cmap)\n",
    "    plt.title(title)\n",
    "    plt.colorbar()\n",
    "    tick_marks = np.arange(len(classes))\n",
    "    plt.xticks(tick_marks, classes, rotation=45)\n",
    "    plt.yticks(tick_marks, classes)\n",
    "\n",
    "    fmt = '.2f' if normalize else 'd'\n",
    "    thresh = cm.max() / 2.\n",
    "    for i, j in itertools.product(range(cm.shape[0]), range(cm.shape[1])):\n",
    "        plt.text(j, i, format(cm[i, j], fmt),\n",
    "                 horizontalalignment=\"center\",\n",
    "                 color=\"white\" if cm[i, j] > thresh else \"black\")\n",
    "\n",
    "    plt.tight_layout()\n",
    "    plt.ylabel('True label')\n",
    "    plt.xlabel('Predicted label')"
   ]
  },
  {
   "cell_type": "code",
   "execution_count": 70,
   "metadata": {},
   "outputs": [
    {
     "name": "stdout",
     "output_type": "stream",
     "text": [
      "Confusion matrix, without normalization\n",
      "[[142  92]\n",
      " [ 87 303]]\n"
     ]
    },
    {
     "data": {
      "image/png": "[encoded data removed]",
      "text/plain": [
       "<matplotlib.figure.Figure at 0x2e2c605de80>"
      ]
     },
     "metadata": {},
     "output_type": "display_data"
    }
   ],
   "source": [
    "gm = metrics.confusion_matrix(Y_test, Gaussian_pred)\n",
    "plot_confusion_matrix(gm,[\"0\",\"1\"])"
   ]
  },
  {
   "cell_type": "code",
   "execution_count": null,
   "metadata": {},
   "outputs": [],
   "source": [
    "#72% accuracy on testing dataset\n",
    "\n",
    "#precision=Precision-77%\n",
    "#Recall-78%\n",
    "#F1 measure -77%"
   ]
  }
 ],
 "metadata": {
  "kernelspec": {
   "display_name": "Python 3",
   "language": "python",
   "name": "python3"
  },
  "language_info": {
   "codemirror_mode": {
    "name": "ipython",
    "version": 3
   },
   "file_extension": ".py",
   "mimetype": "text/x-python",
   "name": "python",
   "nbconvert_exporter": "python",
   "pygments_lexer": "ipython3",
   "version": "3.6.4"
  },
  "widgets": {
   "state": {},
   "version": "1.1.2"
  }
 },
 "nbformat": 4,
 "nbformat_minor": 2
}
